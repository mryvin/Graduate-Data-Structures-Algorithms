{
 "cells": [
  {
   "cell_type": "markdown",
   "id": "e7048452-c784-4c12-afe5-abc404521beb",
   "metadata": {},
   "source": [
    "## Provided Code"
   ]
  },
  {
   "cell_type": "code",
   "execution_count": 4,
   "id": "3643a20c-3d6f-4434-b47b-1327e945cb28",
   "metadata": {},
   "outputs": [
    {
     "name": "stdout",
     "output_type": "stream",
     "text": [
      " b  d  x  y  z \n"
     ]
    }
   ],
   "source": [
    "class Node:\n",
    "\n",
    "    def __init__(self, key, val, color, size):\n",
    "        self.key = key\n",
    "        self.val = val\n",
    "        self.left = None\n",
    "        self.right = None\n",
    "        self.color = color\n",
    "        self.size = size\n",
    "\n",
    "\n",
    "class RedBlackBST:\n",
    "    RED = True\n",
    "    BLACK = False\n",
    "\n",
    "    def __init__(self):\n",
    "        self.root = None\n",
    "\n",
    "    def is_red(self, x):\n",
    "        if x is None:\n",
    "            return False\n",
    "        return x.color == RedBlackBST.RED\n",
    "\n",
    "    def size(self):\n",
    "        return self._size(self.root)\n",
    "\n",
    "    def _size(self, x):\n",
    "        if x is None:\n",
    "            return 0\n",
    "        return x.size\n",
    "\n",
    "    def is_empty(self):\n",
    "        return self.root is None\n",
    "\n",
    "    def get(self, key):\n",
    "        x = self.root\n",
    "        while x is not None:\n",
    "            if x.key == key:\n",
    "                return x.val\n",
    "            elif x.key < key:\n",
    "                x = x.right\n",
    "            else:\n",
    "                x = x.left\n",
    "        return None\n",
    "\n",
    "    def put(self, key, val):\n",
    "        self.root = self._put(self.root, key, val)\n",
    "        self.root.color = RedBlackBST.BLACK\n",
    "\n",
    "    def _put(self, x, key, val):\n",
    "        if x is None:\n",
    "            return Node(key, val, RedBlackBST.RED, 1)\n",
    "        if x.key > key:\n",
    "            x.left = self._put(x.left, key, val)\n",
    "        elif x.key < key:\n",
    "            x.right = self._put(x.right, key, val)\n",
    "        else:\n",
    "            x.val = val\n",
    "\n",
    "        if self.is_red(x.right) and not self.is_red(x.left):\n",
    "            x = self.rotate_left(x)\n",
    "        if self.is_red(x.left) and self.is_red(x.left.left):\n",
    "            x = self.rotate_right(x)\n",
    "        if self.is_red(x.left) and self.is_red(x.right):\n",
    "            self.flip_colors(x)\n",
    "\n",
    "        x.size = self._size(x.left) + self._size(x.right) + 1\n",
    "        return x\n",
    "\n",
    "    def rotate_left(self, h):\n",
    "        x = h.right\n",
    "        h.right = x.left\n",
    "        x.left = h\n",
    "        x.color = h.color\n",
    "        h.color = RedBlackBST.RED\n",
    "        x.size = h.size\n",
    "        h.size = self._size(h.left) + self._size(h.right) + 1\n",
    "        return x\n",
    "\n",
    "    def rotate_right(self, h):\n",
    "        x = h.left\n",
    "        h.left = x.right\n",
    "        x.right = h\n",
    "        x.color = h.color\n",
    "        h.color = RedBlackBST.RED\n",
    "        x.size = h.size\n",
    "        h.size = self._size(h.left) + self._size(h.right) + 1\n",
    "        return x\n",
    "\n",
    "    def flip_colors(self, h):\n",
    "        h.color = not h.color\n",
    "        h.left.color = not h.left.color\n",
    "        h.right.color = not h.right.color\n",
    "\n",
    "    def __str__(self):\n",
    "        return self._inorder(self.root)\n",
    "\n",
    "    def _inorder(self, root):\n",
    "        if root is None:\n",
    "            return \"\"\n",
    "        return self._inorder(root.left) + f' {root.key} ' + self._inorder(root.right)\n",
    "\n",
    "if __name__ == '__main__':\n",
    "\n",
    "    st = RedBlackBST()\n",
    "    i = 0\n",
    "    \n",
    "    for key in  \"xyzbd\":\n",
    "        st.put(key, i)\n",
    "        i += 1\n",
    "    print(st)"
   ]
  },
  {
   "cell_type": "markdown",
   "id": "5b0eb87c-4bc7-47cf-8deb-5ac88cae3c5a",
   "metadata": {},
   "source": [
    "## My Code"
   ]
  },
  {
   "cell_type": "markdown",
   "id": "c622d16e-e1ba-4895-8907-7eaafb2e5805",
   "metadata": {},
   "source": [
    "**Code**"
   ]
  },
  {
   "cell_type": "code",
   "execution_count": 5,
   "id": "315ff503-0e7c-4cd5-bda5-ae10357044e2",
   "metadata": {},
   "outputs": [],
   "source": [
    "def perfectBalance(self):\n",
    "        def _perfectBalance(node):\n",
    "            if node is None:\n",
    "                return True\n",
    "\n",
    "            leftHeight = _perfectBalance(node.left)\n",
    "            rightHeight = _perfectBalance(node.right)\n",
    "\n",
    "            if leftHeight or rightHeight or leftHeight != rightHeight:\n",
    "                return False\n",
    "            else:\n",
    "                return (True if node.color == RedBlackBST.BLACK else False)\n",
    "\n",
    "        return _perfectBalance(self.root) != False\n",
    "    \n",
    "RedBlackBST.perfectBalance = perfectBalance"
   ]
  },
  {
   "cell_type": "markdown",
   "id": "8f3cf015-7f55-41c6-806b-d264bb8fc3b2",
   "metadata": {},
   "source": [
    "**Test**"
   ]
  },
  {
   "cell_type": "code",
   "execution_count": 6,
   "id": "e64ed2ad-26b3-4b90-aeca-6aa2193ba0f4",
   "metadata": {},
   "outputs": [
    {
     "name": "stdout",
     "output_type": "stream",
     "text": [
      " b  d  x  y  z \n",
      "Perfect black balance: True\n"
     ]
    }
   ],
   "source": [
    "if __name__ == '__main__':\n",
    "    st = RedBlackBST()\n",
    "    i = 0\n",
    "\n",
    "    for key in \"xyzbd\":\n",
    "        st.put(key, i)\n",
    "        i += 1\n",
    "\n",
    "    print(st)\n",
    "    print(\"Perfect black balance:\", st.perfectBalance())\n"
   ]
  },
  {
   "cell_type": "code",
   "execution_count": null,
   "id": "81668b9f-752f-4f1b-b3fd-716ed6265eb8",
   "metadata": {},
   "outputs": [],
   "source": []
  }
 ],
 "metadata": {
  "kernelspec": {
   "display_name": "Python 3",
   "language": "python",
   "name": "python3"
  },
  "language_info": {
   "codemirror_mode": {
    "name": "ipython",
    "version": 3
   },
   "file_extension": ".py",
   "mimetype": "text/x-python",
   "name": "python",
   "nbconvert_exporter": "python",
   "pygments_lexer": "ipython3",
   "version": "3.8.8"
  }
 },
 "nbformat": 4,
 "nbformat_minor": 5
}
