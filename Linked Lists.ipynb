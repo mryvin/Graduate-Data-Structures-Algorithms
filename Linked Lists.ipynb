{
 "cells": [
  {
   "cell_type": "markdown",
   "id": "94fe52d1-f0cf-45b1-a71b-3f7f041431b3",
   "metadata": {},
   "source": [
    "Michael Ryvin"
   ]
  },
  {
   "cell_type": "markdown",
   "id": "3133ebb4-9bfa-4758-bb99-adb0dde6e1e7",
   "metadata": {},
   "source": [
    "## Creating Framework for Linked Lists"
   ]
  },
  {
   "cell_type": "code",
   "execution_count": 17,
   "id": "0acd77a7-54dc-467c-a92a-b57c6bc30891",
   "metadata": {},
   "outputs": [],
   "source": [
    "class Node:\n",
    "    def __init__(self, data):\n",
    "        self.data = data\n",
    "        self.next = None"
   ]
  },
  {
   "cell_type": "code",
   "execution_count": 18,
   "id": "2f756f36-5780-4044-8cb5-25f3f57798ff",
   "metadata": {},
   "outputs": [],
   "source": [
    "class LinkedList:\n",
    "    def __init__(self):\n",
    "        self.head = None\n",
    "\n",
    "    def append(self, data):\n",
    "        new_node = Node(data)\n",
    "        if not self.head:\n",
    "            self.head = new_node\n",
    "        else:\n",
    "            current = self.head\n",
    "            while current.next:\n",
    "                current = current.next\n",
    "            current.next = new_node\n",
    "\n",
    "    def display(self):\n",
    "        current = self.head\n",
    "        while current:\n",
    "            print(current.data, end=\" \")\n",
    "            current = current.next\n",
    "        print()"
   ]
  },
  {
   "cell_type": "markdown",
   "id": "f7d453c3-de49-471b-9cdb-b3bff0bd73d0",
   "metadata": {},
   "source": [
    "## Problem 1"
   ]
  },
  {
   "cell_type": "code",
   "execution_count": 19,
   "id": "78d07480-b9de-4d07-9dac-c93097f09fe5",
   "metadata": {},
   "outputs": [],
   "source": [
    "def rearrangeBeads(bead):\n",
    "    if not bead.head:\n",
    "        return\n",
    "\n",
    "    odd = LinkedList()\n",
    "    even = LinkedList()\n",
    "\n",
    "    current = bead.head\n",
    "    is_odd = True\n",
    "\n",
    "    #Separate into 2 linked lists of even and odd\n",
    "    while current:\n",
    "        if is_odd: #Append to odd if boolean is true\n",
    "            odd.append(current.data)\n",
    "        else: #Append to even if boolean is false\n",
    "            even.append(current.data)\n",
    "        current = current.next\n",
    "        is_odd = not is_odd #Switch boolean\n",
    "\n",
    "    #Find last node in odd list\n",
    "    current = odd.head\n",
    "    while current.next:\n",
    "        current = current.next\n",
    "    #Set next node of last node in odd list to the first node in even list\n",
    "    current.next = even.head\n",
    "\n",
    "    bead.head = odd.head"
   ]
  },
  {
   "cell_type": "markdown",
   "id": "7b4c3ccf-681f-46eb-aa73-01e5f9d887bf",
   "metadata": {},
   "source": [
    "**Example**"
   ]
  },
  {
   "cell_type": "code",
   "execution_count": 20,
   "id": "862bbf40-a442-484f-a0b2-3162ea3e00c8",
   "metadata": {},
   "outputs": [
    {
     "name": "stdout",
     "output_type": "stream",
     "text": [
      "2 3 6 7 1 5 4 \n"
     ]
    }
   ],
   "source": [
    "#Make example linked list\n",
    "bead = LinkedList()\n",
    "bead.append(2)\n",
    "bead.append(1)\n",
    "bead.append(3)\n",
    "bead.append(5)\n",
    "bead.append(6)\n",
    "bead.append(4)\n",
    "bead.append(7)\n",
    "\n",
    "rearrangeBeads(bead)\n",
    "bead.display()"
   ]
  },
  {
   "cell_type": "markdown",
   "id": "c58ea1d3-4ebd-4964-948e-f23b08a06b69",
   "metadata": {},
   "source": [
    "## Problem 2"
   ]
  },
  {
   "cell_type": "code",
   "execution_count": 21,
   "id": "d397494e-ff57-4f75-84af-f3c60543d365",
   "metadata": {},
   "outputs": [],
   "source": [
    "def uniqueShrink(bead):\n",
    "    if not bead.head:\n",
    "        return\n",
    "    \n",
    "    newBead = LinkedList()\n",
    "    \n",
    "    current = bead.head\n",
    "    previous = current\n",
    "    first = True\n",
    "    \n",
    "    while current:\n",
    "        if first == True: #Include first value of linked list in new list\n",
    "            first = False\n",
    "            newBead.append(current.data)\n",
    "            current = current.next\n",
    "            continue\n",
    "        if current.data != previous.data: #If not a copy, it is added to new list\n",
    "            newBead.append(current.data)\n",
    "        previous = current\n",
    "        current = current.next\n",
    "            \n",
    "    bead.head = newBead.head\n",
    "        "
   ]
  },
  {
   "cell_type": "code",
   "execution_count": 22,
   "id": "dcc91501-fdc4-4707-9e22-b9f4893bd144",
   "metadata": {},
   "outputs": [
    {
     "name": "stdout",
     "output_type": "stream",
     "text": [
      "-1 2 3 4 5 6 8 \n"
     ]
    }
   ],
   "source": [
    "#Make example linked list\n",
    "bead2 = LinkedList()\n",
    "bead2.append(-1)\n",
    "bead2.append(-1)\n",
    "bead2.append(2)\n",
    "bead2.append(3)\n",
    "bead2.append(3)\n",
    "bead2.append(4)\n",
    "bead2.append(4)\n",
    "bead2.append(5)\n",
    "bead2.append(6)\n",
    "bead2.append(8)\n",
    "\n",
    "uniqueShrink(bead2)\n",
    "bead2.display()"
   ]
  },
  {
   "cell_type": "code",
   "execution_count": null,
   "id": "37646927-5034-423f-b2fd-85ff6e01268e",
   "metadata": {},
   "outputs": [],
   "source": []
  }
 ],
 "metadata": {
  "kernelspec": {
   "display_name": "Python 3",
   "language": "python",
   "name": "python3"
  },
  "language_info": {
   "codemirror_mode": {
    "name": "ipython",
    "version": 3
   },
   "file_extension": ".py",
   "mimetype": "text/x-python",
   "name": "python",
   "nbconvert_exporter": "python",
   "pygments_lexer": "ipython3",
   "version": "3.8.8"
  }
 },
 "nbformat": 4,
 "nbformat_minor": 5
}
