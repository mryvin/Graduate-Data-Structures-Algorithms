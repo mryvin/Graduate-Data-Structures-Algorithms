{
 "cells": [
  {
   "cell_type": "markdown",
   "id": "742b27d1-e890-49ac-9698-69f032edffa7",
   "metadata": {},
   "source": [
    "# Part 1"
   ]
  },
  {
   "cell_type": "markdown",
   "id": "1fcb340d-2636-4fba-9754-9979cf9c8752",
   "metadata": {},
   "source": [
    "### Code"
   ]
  },
  {
   "cell_type": "code",
   "execution_count": 72,
   "id": "e91e6a27-edd8-4cd1-8c3d-c97801a7f5a9",
   "metadata": {},
   "outputs": [],
   "source": [
    "from random import shuffle\n",
    "class Sort:\n",
    "    \n",
    "    def __init__(self, N):\n",
    "        self._list = [x for x in range(N)]\n",
    "        shuffle(self._list)\n",
    "        \n",
    "    def first(self):\n",
    "        return self._list[0]\n",
    "    \n",
    "    def second(self):\n",
    "        return self._list[1]\n",
    "    \n",
    "    def swap_top_two(self):\n",
    "        self._list[0], self._list[1] = self._list[1], self._list[0]\n",
    "        \n",
    "    def move_first_to_bottom(self):\n",
    "        first = self._list.pop(0)\n",
    "        self._list.append(first)\n",
    "        \n",
    "    def sort(self):\n",
    "        # Rules\n",
    "        # You may not access the list directly\n",
    "        # You may only call the other methods in the class\n",
    "        # first, second, swap_top_two, move_first_to_bottom, size\n",
    "        # Indicate the time complexity of your algorithm\n",
    "        m = 0\n",
    "        while m < Sort.size(self):\n",
    "        \n",
    "            for i in range(Sort.size(self) - m):\n",
    "\n",
    "                if Sort.first(self) > Sort.second(self):\n",
    "                    Sort.swap_top_two(self)\n",
    "\n",
    "                Sort.move_first_to_bottom(self)\n",
    "            m += 1\n",
    "            \n",
    "            for i in range(m-1):\n",
    "\n",
    "                Sort.move_first_to_bottom(self)\n",
    "\n",
    "            \n",
    "        #pass\n",
    "\n",
    "    def is_sorted(self):\n",
    "        for i in range(self.size()-1):\n",
    "            if self._list[i] > self._list[i+1]:\n",
    "                return False\n",
    "        return True\n",
    "    \n",
    "    def size(self):\n",
    "        return len(self._list)\n",
    "    \n",
    "    def __repr__(self):\n",
    "        return str(self._list)"
   ]
  },
  {
   "cell_type": "markdown",
   "id": "6de0e600-059e-46e0-9b5b-be6e6524323f",
   "metadata": {},
   "source": [
    "### Test"
   ]
  },
  {
   "cell_type": "code",
   "execution_count": 73,
   "id": "87092f4e-031a-4fe2-adb3-1f8f138b0afc",
   "metadata": {},
   "outputs": [
    {
     "name": "stdout",
     "output_type": "stream",
     "text": [
      "BEFORE: [2, 9, 14, 15, 19, 17, 10, 0, 12, 16, 18, 1, 11, 6, 5, 3, 4, 8, 13, 7]\n",
      "\n",
      "AFTER: [0, 1, 2, 3, 4, 5, 6, 7, 8, 9, 10, 11, 12, 13, 14, 15, 16, 17, 18, 19]\n",
      "True\n"
     ]
    }
   ],
   "source": [
    "c = Sort(20)\n",
    "print(\"BEFORE:\", c)       \n",
    "print() \n",
    " \n",
    "c.sort()\n",
    "print(\"AFTER:\", c)       \n",
    "\n",
    "print(c.is_sorted())  \n"
   ]
  },
  {
   "cell_type": "markdown",
   "id": "8b627607-e989-43ac-8514-0e25d11857df",
   "metadata": {},
   "source": [
    "**This implementation of sort runs in O(n^2) time**"
   ]
  },
  {
   "cell_type": "markdown",
   "id": "71e0270a-9b12-4903-8d20-73896a6cfda7",
   "metadata": {},
   "source": [
    "# Part 2"
   ]
  },
  {
   "cell_type": "markdown",
   "id": "38a25485-629e-40d6-b0f0-334104384b54",
   "metadata": {},
   "source": [
    "### Code"
   ]
  },
  {
   "cell_type": "code",
   "execution_count": 74,
   "id": "1f7570cc-8b8d-408e-bc92-32c21c654aef",
   "metadata": {},
   "outputs": [],
   "source": [
    "def transpositions(arr):\n",
    "    if len(arr) > 1:\n",
    "        mid = len(arr) // 2\n",
    "        left, leftCount = transpositions(arr[:mid])\n",
    "        right, rightCount = transpositions(arr[mid:])\n",
    "\n",
    "        i = 0\n",
    "        j = 0\n",
    "        k = 0\n",
    "        count = 0\n",
    "        sorted_arr = [0] * (len(left) + len(right))\n",
    "\n",
    "        # Merge the two halves while counting transpositions\n",
    "        while i < len(left) and j < len(right):\n",
    "            if left[i] <= right[j]:\n",
    "                sorted_arr[k] = left[i]\n",
    "                i += 1\n",
    "            else:\n",
    "                sorted_arr[k] = right[j]\n",
    "                count += len(left) - i\n",
    "                j += 1\n",
    "            k += 1\n",
    "\n",
    "        # Add remaining elements from the left and right halves\n",
    "        while i < len(left):\n",
    "            sorted_arr[k] = left[i]\n",
    "            i += 1\n",
    "            k += 1\n",
    "\n",
    "        while j < len(right):\n",
    "            sorted_arr[k] = right[j]\n",
    "            j += 1\n",
    "            k += 1\n",
    "\n",
    "        # Return the sorted array and total transpositions\n",
    "        return sorted_arr, leftCount + rightCount + count\n",
    "    else:\n",
    "        # Return single-element array and 0 transpositions for base case\n",
    "        return [arr[0]], 0\n"
   ]
  },
  {
   "cell_type": "markdown",
   "id": "b9de92d6-3122-4121-a0b6-ca0697a7e159",
   "metadata": {},
   "source": [
    "### Test"
   ]
  },
  {
   "cell_type": "code",
   "execution_count": 75,
   "id": "421e3cba-b3f8-4a29-8939-d9222894ff24",
   "metadata": {},
   "outputs": [
    {
     "name": "stdout",
     "output_type": "stream",
     "text": [
      "Number of transpositions: 23\n",
      "Number of transpositions: 6\n"
     ]
    }
   ],
   "source": [
    "# Example usage:\n",
    "arr = [38, 27, 43, 3, 9, 82, 10, 4, 66, 22]\n",
    "sorted_arr, count = transpositions(arr)\n",
    "print(\"Number of transpositions:\", count)\n",
    "\n",
    "# Example usage:\n",
    "arr = [8, 4, 2, 1]\n",
    "sorted_arr, count = transpositions(arr)\n",
    "print(\"Number of transpositions:\", count)"
   ]
  },
  {
   "cell_type": "code",
   "execution_count": null,
   "id": "1cc77c49-6263-438b-a90c-b4707f73f922",
   "metadata": {},
   "outputs": [],
   "source": []
  }
 ],
 "metadata": {
  "kernelspec": {
   "display_name": "Python 3",
   "language": "python",
   "name": "python3"
  },
  "language_info": {
   "codemirror_mode": {
    "name": "ipython",
    "version": 3
   },
   "file_extension": ".py",
   "mimetype": "text/x-python",
   "name": "python",
   "nbconvert_exporter": "python",
   "pygments_lexer": "ipython3",
   "version": "3.8.8"
  }
 },
 "nbformat": 4,
 "nbformat_minor": 5
}
