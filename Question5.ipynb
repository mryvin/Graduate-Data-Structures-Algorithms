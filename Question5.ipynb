{
 "cells": [
  {
   "cell_type": "markdown",
   "id": "5724468e-0934-468c-92a8-fba2e59d4d09",
   "metadata": {},
   "source": [
    "### Code"
   ]
  },
  {
   "cell_type": "code",
   "execution_count": 5,
   "id": "bf830060-46ef-47a9-95a1-10e637dd6cdf",
   "metadata": {},
   "outputs": [],
   "source": [
    "import heapq\n",
    "\n",
    "def merge_lists(List):\n",
    "    heap = []\n",
    "    for l in List:\n",
    "        for value in l:\n",
    "            heapq.heappush(heap, value)\n",
    "\n",
    "    result = []\n",
    "    while heap:\n",
    "        result.append(heapq.heappop(heap))\n",
    "\n",
    "    return result"
   ]
  },
  {
   "cell_type": "markdown",
   "id": "52902f08-f019-4948-8386-a4cf330be93a",
   "metadata": {},
   "source": [
    "### Test"
   ]
  },
  {
   "cell_type": "code",
   "execution_count": 6,
   "id": "c6d6c91d-5d97-45df-97da-88fb8a6f4c36",
   "metadata": {},
   "outputs": [
    {
     "name": "stdout",
     "output_type": "stream",
     "text": [
      "[0, 1, 1, 1, 1, 2, 3, 4, 6, 7, 9]\n"
     ]
    }
   ],
   "source": [
    "List = [[1, 2, 4], [3, 6, 7], [0, 1, 1, 1, 9]]\n",
    "print(merge_lists(List))"
   ]
  },
  {
   "cell_type": "code",
   "execution_count": null,
   "id": "8d1f85cf-f3ce-471b-ba59-1f11545f155f",
   "metadata": {},
   "outputs": [],
   "source": []
  },
  {
   "cell_type": "code",
   "execution_count": null,
   "id": "c65c4b80-9e2c-429f-8481-21a2319e1221",
   "metadata": {},
   "outputs": [],
   "source": []
  }
 ],
 "metadata": {
  "kernelspec": {
   "display_name": "Python 3",
   "language": "python",
   "name": "python3"
  },
  "language_info": {
   "codemirror_mode": {
    "name": "ipython",
    "version": 3
   },
   "file_extension": ".py",
   "mimetype": "text/x-python",
   "name": "python",
   "nbconvert_exporter": "python",
   "pygments_lexer": "ipython3",
   "version": "3.8.8"
  }
 },
 "nbformat": 4,
 "nbformat_minor": 5
}
