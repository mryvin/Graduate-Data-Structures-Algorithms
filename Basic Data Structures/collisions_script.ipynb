{
 "cells": [
  {
   "cell_type": "code",
   "execution_count": 50,
   "id": "204a17b0-c1b8-4665-b4f5-e7e989ce5317",
   "metadata": {},
   "outputs": [
    {
     "name": "stdout",
     "output_type": "stream",
     "text": [
      "[-101, 56]\n"
     ]
    }
   ],
   "source": [
    "def collisions(objects):\n",
    "    i = 0\n",
    "    while i < len(objects):\n",
    "        if i >= (len(objects)-1):\n",
    "            break\n",
    "        if objects[i] < 0:\n",
    "            i += 1\n",
    "            continue\n",
    "        elif objects[i+1] > 0:\n",
    "            i += 1\n",
    "            continue\n",
    "        elif objects[i+1] < 0:\n",
    "            if abs(objects[i]) > abs(objects[i+1]):\n",
    "                objects.pop(i+1)\n",
    "            elif abs(objects[i]) < abs(objects[i+1]):\n",
    "                objects.pop(i)\n",
    "                j = i\n",
    "                while j >= 1:\n",
    "                    if objects[j-1] < 0:\n",
    "                        break\n",
    "                    if abs(objects[j]) < abs(objects[j-1]):\n",
    "                        objects.pop(j)\n",
    "                        i = j - 1\n",
    "                        break\n",
    "                    elif abs(objects[j]) > abs(objects[j-1]):\n",
    "                        objects.pop(j-1)\n",
    "                    j -= 1\n",
    "            elif abs(objects[i]) == abs(objects[i+1]):\n",
    "                objects.pop(i+1)\n",
    "                objects.pop(i)\n",
    "    return(objects)\n",
    "        \n",
    "\n",
    "objects = [102, -102, 53, -34, 55, -101, 56, -23]\n",
    "result = collisions(objects)\n",
    "\n",
    "print(result)"
   ]
  },
  {
   "cell_type": "code",
   "execution_count": null,
   "id": "ead4939a-67fd-4f06-bb77-73742f17ad36",
   "metadata": {},
   "outputs": [],
   "source": []
  },
  {
   "cell_type": "code",
   "execution_count": null,
   "id": "9621fef9-bbfd-4d2e-8801-cbfb14da63d3",
   "metadata": {},
   "outputs": [],
   "source": []
  }
 ],
 "metadata": {
  "kernelspec": {
   "display_name": "Python 3",
   "language": "python",
   "name": "python3"
  },
  "language_info": {
   "codemirror_mode": {
    "name": "ipython",
    "version": 3
   },
   "file_extension": ".py",
   "mimetype": "text/x-python",
   "name": "python",
   "nbconvert_exporter": "python",
   "pygments_lexer": "ipython3",
   "version": "3.8.8"
  }
 },
 "nbformat": 4,
 "nbformat_minor": 5
}
