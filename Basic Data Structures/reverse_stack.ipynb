{
 "cells": [
  {
   "cell_type": "code",
   "execution_count": 25,
   "id": "1167b9ed-3f3d-4e85-86e6-a88b84458471",
   "metadata": {},
   "outputs": [
    {
     "name": "stdout",
     "output_type": "stream",
     "text": [
      "[10, 9, 8, 7, 6, 5, 4, 3, 2, 1]\n"
     ]
    }
   ],
   "source": [
    "def reverseMe(stack):\n",
    "    stack2 = []\n",
    "    stack3 = []\n",
    "\n",
    "    while stack:\n",
    "        stack2.append(stack.pop())\n",
    "    while stack2:\n",
    "        stack3.append(stack2.pop())\n",
    "    while stack3:\n",
    "        stack.append(stack3.pop())\n",
    "\n",
    "testStack = [1, 2, 3, 4, 5, 6, 7, 8, 9, 10]\n",
    "reverseMe(testStack)\n",
    "\n",
    "print(testStack)"
   ]
  },
  {
   "cell_type": "code",
   "execution_count": null,
   "id": "b5cacc86-adb2-4727-9020-f33d2fff3e3f",
   "metadata": {},
   "outputs": [],
   "source": []
  }
 ],
 "metadata": {
  "kernelspec": {
   "display_name": "Python 3",
   "language": "python",
   "name": "python3"
  },
  "language_info": {
   "codemirror_mode": {
    "name": "ipython",
    "version": 3
   },
   "file_extension": ".py",
   "mimetype": "text/x-python",
   "name": "python",
   "nbconvert_exporter": "python",
   "pygments_lexer": "ipython3",
   "version": "3.8.8"
  }
 },
 "nbformat": 4,
 "nbformat_minor": 5
}
