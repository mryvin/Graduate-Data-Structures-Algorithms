{
 "cells": [
  {
   "cell_type": "code",
   "execution_count": 20,
   "id": "c3b6a97e-6bff-4f43-a01f-feb27b6d0c31",
   "metadata": {},
   "outputs": [
    {
     "name": "stdout",
     "output_type": "stream",
     "text": [
      "[1, 2, 4, 5, 3, 3]\n"
     ]
    }
   ],
   "source": [
    "def delete_first_n(data, value, n):\n",
    "    count = 0\n",
    "    new = []\n",
    "    \n",
    "    for i in range(len(data)):\n",
    "        if data[i] == value and count != n:\n",
    "            count += 1\n",
    "        else:\n",
    "            new.append(data[i])\n",
    "    \n",
    "    return new\n",
    "\n",
    "data = [1, 2, 3, 4, 3, 5, 3, 3]\n",
    "value = 3\n",
    "n = 2\n",
    "result = delete_first_n(data, value, n)\n",
    "print(result)"
   ]
  },
  {
   "cell_type": "code",
   "execution_count": null,
   "id": "9ece8a3b-37c4-417f-81c9-a0d2333c5f1b",
   "metadata": {},
   "outputs": [],
   "source": []
  }
 ],
 "metadata": {
  "kernelspec": {
   "display_name": "Python 3",
   "language": "python",
   "name": "python3"
  },
  "language_info": {
   "codemirror_mode": {
    "name": "ipython",
    "version": 3
   },
   "file_extension": ".py",
   "mimetype": "text/x-python",
   "name": "python",
   "nbconvert_exporter": "python",
   "pygments_lexer": "ipython3",
   "version": "3.8.8"
  }
 },
 "nbformat": 4,
 "nbformat_minor": 5
}
