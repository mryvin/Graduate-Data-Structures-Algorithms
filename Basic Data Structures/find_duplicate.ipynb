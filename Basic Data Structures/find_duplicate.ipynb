{
 "cells": [
  {
   "cell_type": "code",
   "execution_count": 2,
   "id": "565a7345-a474-49aa-9cdb-39840b97515d",
   "metadata": {},
   "outputs": [
    {
     "name": "stdout",
     "output_type": "stream",
     "text": [
      "Array ([1, 2, 2, 4, 4]), Repeated: 2, 4\n",
      "Array ([1, 2, 3, 4, 4, 5, 6, 7, 5]), Repeated: 4, 5\n",
      "Array ([4, 4]), Repeated: 4\n"
     ]
    }
   ],
   "source": [
    "def findDuplicate(B):\n",
    "    n = len(B)\n",
    "    nums = set()\n",
    "    repeats = []\n",
    "    \n",
    "    for num in B:\n",
    "        if len(repeats) == 2:\n",
    "            return repeats\n",
    "        if num in nums:\n",
    "            repeats.append(num)\n",
    "        nums.add(num)\n",
    "    return repeats\n",
    "\n",
    "B = [1, 2, 2, 4, 4]\n",
    "repeat = findDuplicate(B)\n",
    "print(f\"Array ({B}), Repeated: {repeat[0]}, {repeat[1]}\")\n",
    "\n",
    "B = [1, 2, 3, 4, 4, 5, 6, 7, 5]\n",
    "repeat = findDuplicate(B)\n",
    "print(f\"Array ({B}), Repeated: {repeat[0]}, {repeat[1]}\")\n",
    "\n",
    "B = [4, 4]\n",
    "repeat = findDuplicate(B)\n",
    "print(f\"Array ({B}), Repeated: {repeat[0]}\")"
   ]
  },
  {
   "cell_type": "code",
   "execution_count": null,
   "id": "4b9b712d-2b76-4ed4-ae6a-a93e32cdb5ce",
   "metadata": {},
   "outputs": [],
   "source": []
  }
 ],
 "metadata": {
  "kernelspec": {
   "display_name": "Python 3",
   "language": "python",
   "name": "python3"
  },
  "language_info": {
   "codemirror_mode": {
    "name": "ipython",
    "version": 3
   },
   "file_extension": ".py",
   "mimetype": "text/x-python",
   "name": "python",
   "nbconvert_exporter": "python",
   "pygments_lexer": "ipython3",
   "version": "3.8.8"
  }
 },
 "nbformat": 4,
 "nbformat_minor": 5
}
