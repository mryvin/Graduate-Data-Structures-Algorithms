{
 "cells": [
  {
   "cell_type": "markdown",
   "id": "066c1dfe-79c3-4963-908f-bacb06d74f6f",
   "metadata": {},
   "source": [
    "# Provided Code"
   ]
  },
  {
   "cell_type": "code",
   "execution_count": 60,
   "id": "da9d11b8-6375-4932-b3a1-5ca25c8147b3",
   "metadata": {},
   "outputs": [
    {
     "name": "stdout",
     "output_type": "stream",
     "text": [
      "g 0\n",
      "q 2\n",
      "z 3\n",
      "m 1\n",
      "b 4\n",
      "\n",
      "0\n",
      "1 g 1931948231\n",
      "2 q 1091938121\n",
      "3\n",
      "4 z 461159854\n",
      "5\n",
      "6\n",
      "7 m 183843867\n",
      "8 b 1995048767\n",
      "9\n"
     ]
    }
   ],
   "source": [
    "class LinearProbingHashST:\n",
    "    INIT_CAPACITY = 11\n",
    "\n",
    "    def __init__(self, m=None, max_load = 0.50):\n",
    "        self.n = 0  \n",
    "        self.m = m or LinearProbingHashST.INIT_CAPACITY  # hash table size\n",
    "        self.max_load = max_load\n",
    "        self.keys = [None for _ in range(self.m)]\n",
    "        self.vals = [None for _ in range(self.m)]\n",
    "\n",
    "    def hash(self, key):\n",
    "        return (hash(key) & 0x7FFFFFFF) % self.m\n",
    "\n",
    "    def size(self):\n",
    "        return self.n\n",
    "\n",
    "    def is_empty(self):\n",
    "        return self.size() == 0\n",
    "\n",
    "    def get(self, key):\n",
    "        i = self.hash(key)\n",
    "        while self.keys[i] is not None:\n",
    "            if self.keys[i] == key:\n",
    "                return self.vals[i]\n",
    "            i = (i + 1) % self.m\n",
    "\n",
    "        return None\n",
    "\n",
    "    def contains(self, key):\n",
    "        return self.get(key) is not None\n",
    "\n",
    "    def put(self, key, val):\n",
    "        if (self.n /self.m  >=  self.max_load):\n",
    "            self.resize(2 * self.m)\n",
    "\n",
    "        i = self.hash(key)\n",
    "        probes = 0\n",
    "        while self.keys[i] is not None:\n",
    "            if self.keys[i] == key:\n",
    "                self.vals[i] = val\n",
    "                return \n",
    "            i = (i + 1) % self.m\n",
    "            probes += 1\n",
    "        self.keys[i] = key\n",
    "        self.vals[i] = val\n",
    "        self.n += 1\n",
    "        return probes\n",
    "\n",
    "    def delete(self, key):\n",
    "        if not self.contains(key):\n",
    "            return\n",
    "\n",
    "        i = self.hash(key)\n",
    "        while self.keys[i] != key:\n",
    "            i = (i + 1) % self.m\n",
    "        self.keys[i] = None\n",
    "        self.vals[i] = None\n",
    "\n",
    "        # rehash all keys in same cluster\n",
    "        i = (i + 1) % self.m\n",
    "        while self.keys[i] is not None:\n",
    "            key_to_hash = self.keys[i]\n",
    "            val_to_hash = self.vals[i]\n",
    "            self.keys[i] = None\n",
    "            self.vals[i] = None\n",
    "            self.n -= 1\n",
    "            self.put(key_to_hash, val_to_hash)\n",
    "            i = (i + 1) % self.m\n",
    "\n",
    "        self.n -= 1\n",
    "        # halves size of array if it's 12.5% full or less\n",
    "        if self.n > 0 and self.n <= self.m / 8:\n",
    "            self.resize(self.m // 2)\n",
    "\n",
    "    def resize(self, capacity):\n",
    "        tmp = LinearProbingHashST(capacity)\n",
    "        for i in range(self.m):\n",
    "            if self.keys[i] is not None:\n",
    "                tmp.put(self.keys[i], self.vals[i])\n",
    "\n",
    "        self.m = tmp.m\n",
    "        self.keys = tmp.keys\n",
    "        self.vals = tmp.vals\n",
    "    \n",
    "    def load_factor(self):\n",
    "        return self.n / self.m \n",
    "\n",
    "\n",
    "if __name__ == '__main__':\n",
    "\n",
    "    st = LinearProbingHashST(10)\n",
    "    i = 0\n",
    "    for key in \"gmqzb\":\n",
    "        st.put(key, i)\n",
    "        i += 1\n",
    "\n",
    "    for s in st.keys:\n",
    "        if s:\n",
    "            print(s + \" \" + str(st.get(s)))\n",
    "    print()\n",
    "            \n",
    "    for i in range(st.m):\n",
    "        if st.keys[i]:\n",
    "            print(i, st.keys[i], end = \" \")\n",
    "            if st.keys[i] is None:\n",
    "                print()\n",
    "            else:\n",
    "                print(hash(st.keys[i]) & 0x7FFFFFFF)\n",
    "        else: print(i)\n"
   ]
  },
  {
   "cell_type": "markdown",
   "id": "3dade935-be1d-4ca7-96ff-dc9f4792f000",
   "metadata": {},
   "source": [
    "# My Code"
   ]
  },
  {
   "cell_type": "markdown",
   "id": "68963df5-8cbd-4472-a473-ab849aded0ec",
   "metadata": {},
   "source": [
    "### Successful Search"
   ]
  },
  {
   "cell_type": "markdown",
   "id": "63285c39-292c-4227-a276-00d8b7407581",
   "metadata": {},
   "source": [
    "**Code**"
   ]
  },
  {
   "cell_type": "code",
   "execution_count": 61,
   "id": "0afa8986-fe2a-4756-a1e8-b558e8290984",
   "metadata": {},
   "outputs": [],
   "source": [
    "def successfulSearchCost(self):\n",
    "        total_cost = 0\n",
    "        for key in self.keys:\n",
    "            if key is not None:\n",
    "                cost = 1 \n",
    "                i = self.hash(key)\n",
    "                while self.keys[i] is not None:\n",
    "                    #print(self.keys[i])\n",
    "                    if self.keys[i] == key:\n",
    "                        total_cost += cost\n",
    "                        #print(key, cost)\n",
    "                        break\n",
    "                    cost += 1\n",
    "                    i = (i + 1) % self.m\n",
    "        return total_cost / self.n if self.n > 0 else 0\n",
    "    \n",
    "LinearProbingHashST.successfulSearchCost = successfulSearchCost"
   ]
  },
  {
   "cell_type": "markdown",
   "id": "5dfe9878-6f82-4cd6-8203-fc6594380f95",
   "metadata": {},
   "source": [
    "**Test**"
   ]
  },
  {
   "cell_type": "code",
   "execution_count": 62,
   "id": "84e0c20d-1db7-4986-8f73-48c672fc6057",
   "metadata": {},
   "outputs": [
    {
     "data": {
      "text/plain": [
       "1.4"
      ]
     },
     "execution_count": 62,
     "metadata": {},
     "output_type": "execute_result"
    }
   ],
   "source": [
    "successfulSearchCost(st)"
   ]
  },
  {
   "cell_type": "markdown",
   "id": "ee558877-f383-4025-8905-af3226ca38c9",
   "metadata": {},
   "source": [
    "### Unsuccessful Search"
   ]
  },
  {
   "cell_type": "markdown",
   "id": "b1e19717-ed88-4cd4-bd08-5210e925902a",
   "metadata": {},
   "source": [
    "**Code**"
   ]
  },
  {
   "cell_type": "code",
   "execution_count": 63,
   "id": "e5d404f1-546c-4c21-b2f6-e67225e587fd",
   "metadata": {},
   "outputs": [],
   "source": [
    "def unsuccessfulSearchCost(self):\n",
    "        total_cost = 0\n",
    "        for i in range(self.m):\n",
    "            cost = 1\n",
    "            j = (i) % self.m\n",
    "            #print('This cell:')\n",
    "            while self.keys[j] is not None:\n",
    "                #print(self.keys[j])\n",
    "                cost += 1\n",
    "                j = (j+1) % self.m\n",
    "            #print(cost)\n",
    "            total_cost += cost\n",
    "        average_cost = total_cost / self.m\n",
    "        return average_cost\n",
    "    \n",
    "LinearProbingHashST.unsuccessfulSearchCost = unsuccessfulSearchCost"
   ]
  },
  {
   "cell_type": "markdown",
   "id": "2c8d0cb3-abdf-4cfc-8a72-15ca061ccd98",
   "metadata": {},
   "source": [
    "**Test**"
   ]
  },
  {
   "cell_type": "code",
   "execution_count": 64,
   "id": "159c343a-45a2-40fa-911b-587fd46bf904",
   "metadata": {},
   "outputs": [
    {
     "data": {
      "text/plain": [
       "1.7"
      ]
     },
     "execution_count": 64,
     "metadata": {},
     "output_type": "execute_result"
    }
   ],
   "source": [
    "unsuccessfulSearchCost(st)"
   ]
  },
  {
   "cell_type": "markdown",
   "id": "e0c5803d-a728-4c64-934f-96cf66ed8445",
   "metadata": {},
   "source": [
    "### Expedient Delete"
   ]
  },
  {
   "cell_type": "markdown",
   "id": "2af9bf41-9002-4f43-b36e-262d1856a532",
   "metadata": {},
   "source": [
    "**Code**"
   ]
  },
  {
   "cell_type": "code",
   "execution_count": 65,
   "id": "1e3c67e3-06f3-4466-8188-3e84ca011362",
   "metadata": {},
   "outputs": [],
   "source": [
    "def expedientDelete(self, key):\n",
    "    if not self.contains(key):\n",
    "        return\n",
    "\n",
    "    i = self.hash(key)\n",
    "    while self.keys[i] != key:\n",
    "        i = (i + 1) % self.m\n",
    "    self.vals[i] = None \n",
    "\n",
    "    # Check if the table needs to be resized\n",
    "    if self.n > 0 and self.n <= self.m // 8:\n",
    "        self.resize(self.m // 2)\n",
    "\n",
    "LinearProbingHashST.expedientDelete = expedientDelete"
   ]
  },
  {
   "cell_type": "code",
   "execution_count": 66,
   "id": "b2782597-ec16-47a9-9ada-2b77227ceb0d",
   "metadata": {},
   "outputs": [],
   "source": [
    "def get(self, key):\n",
    "    i = self.hash(key)\n",
    "    while self.keys[i] is not None:\n",
    "        # Check if the value is not None, not just key\n",
    "        if self.keys[i] == key and self.vals[i] is not None:  \n",
    "            return self.vals[i]\n",
    "        i = (i + 1) % self.m\n",
    "    return None\n",
    "\n",
    "def put(self, key, val):\n",
    "    if (self.n / self.m >= self.max_load):\n",
    "        self.resize(2 * self.m)\n",
    "\n",
    "    i = self.hash(key)\n",
    "    probes = 0\n",
    "    # Check if the value is not None, not just key\n",
    "    while self.keys[i] is not None and self.vals[i] is not None: \n",
    "        if self.keys[i] == key:\n",
    "            self.vals[i] = val\n",
    "            return\n",
    "        i = (i + 1) % self.m\n",
    "        probes += 1\n",
    "    self.keys[i] = key\n",
    "    self.vals[i] = val\n",
    "    self.n += 1\n",
    "    return probes\n",
    "\n",
    "def resize(self, capacity):\n",
    "    tmp = LinearProbingHashST(capacity)\n",
    "    for i in range(self.m):\n",
    "        # Check if the value is not None, not just key\n",
    "        if self.keys[i] is not None and self.vals[i] is not None: \n",
    "            tmp.put(self.keys[i], self.vals[i])\n",
    "\n",
    "    self.m = tmp.m\n",
    "    self.keys = tmp.keys\n",
    "    self.vals = tmp.vals\n",
    "    \n",
    "LinearProbingHashST.get = get\n",
    "LinearProbingHashST.put = put\n",
    "LinearProbingHashST.resize = resize"
   ]
  },
  {
   "cell_type": "markdown",
   "id": "2b6c650e-c755-45cc-8fb4-f4856af3d294",
   "metadata": {},
   "source": [
    "**Test**"
   ]
  },
  {
   "cell_type": "code",
   "execution_count": 67,
   "id": "38a06e99-efa0-4dd1-a930-f4196ee5848c",
   "metadata": {},
   "outputs": [
    {
     "name": "stdout",
     "output_type": "stream",
     "text": [
      "Before deletion:\n",
      "g 0\n",
      "q 2\n",
      "z 3\n",
      "m 1\n",
      "b 4\n",
      "\n",
      "After deletion:\n",
      "g 0\n",
      "q 2\n",
      "z None\n",
      "m 1\n",
      "b 4\n",
      "\n"
     ]
    }
   ],
   "source": [
    "print(\"Before deletion:\")\n",
    "for s in st.keys:\n",
    "    if s:\n",
    "        print(s + \" \" + str(st.get(s)))\n",
    "print()\n",
    "\n",
    "st.expedientDelete('z')\n",
    "\n",
    "print(\"After deletion:\")\n",
    "for s in st.keys:\n",
    "    if s:\n",
    "        print(s + \" \" + str(st.get(s)))\n",
    "print()"
   ]
  },
  {
   "cell_type": "code",
   "execution_count": null,
   "id": "b0eaa106-d0b6-4cf7-88b2-538769605060",
   "metadata": {},
   "outputs": [],
   "source": []
  },
  {
   "cell_type": "code",
   "execution_count": null,
   "id": "6f2df6d9-426b-4f7b-b7cc-ccf514ecdc27",
   "metadata": {},
   "outputs": [],
   "source": []
  }
 ],
 "metadata": {
  "kernelspec": {
   "display_name": "Python 3",
   "language": "python",
   "name": "python3"
  },
  "language_info": {
   "codemirror_mode": {
    "name": "ipython",
    "version": 3
   },
   "file_extension": ".py",
   "mimetype": "text/x-python",
   "name": "python",
   "nbconvert_exporter": "python",
   "pygments_lexer": "ipython3",
   "version": "3.8.8"
  }
 },
 "nbformat": 4,
 "nbformat_minor": 5
}
