{
 "cells": [
  {
   "cell_type": "markdown",
   "id": "273bc926-438b-486f-b378-3cb487e89245",
   "metadata": {},
   "source": [
    "# Provided Code"
   ]
  },
  {
   "cell_type": "code",
   "execution_count": 191,
   "id": "4871b0bd-c789-48b1-9a23-022e6e7547bb",
   "metadata": {},
   "outputs": [
    {
     "name": "stdout",
     "output_type": "stream",
     "text": [
      "['A', 'C', 'G', 'H', 'I', 'L', 'M', 'Q', 'Z']\n"
     ]
    }
   ],
   "source": [
    "class Node:\n",
    "\n",
    "    def __init__(self, key, val, N):\n",
    "        self.key = key\n",
    "        self.val = val\n",
    "        self.N = N\n",
    "        self.left = None\n",
    "        self.right = None\n",
    "\n",
    "class BST:\n",
    "\n",
    "    def __init__(self):\n",
    "        self.root = None\n",
    "\n",
    "    def size(self):\n",
    "        return self._size(self.root)\n",
    "\n",
    "    def _size(self, x):\n",
    "        if x is None:\n",
    "            return 0\n",
    "\n",
    "        return x.N\n",
    "\n",
    "    def get(self, key):\n",
    "        return self._get(self.root, key)\n",
    "\n",
    "    def _get(self, x, key):\n",
    "        if x is None:\n",
    "            return\n",
    "\n",
    "        if x.key > key:\n",
    "            return self._get(x.left, key)\n",
    "        elif x.key < key:\n",
    "            return self._get(x.right, key)\n",
    "        else:\n",
    "            return x.val\n",
    "\n",
    "    def put(self, key, val):\n",
    "        self.root = self._put(self.root, key, val)\n",
    "\n",
    "    def _put(self, x, key, val):\n",
    "        if x is None:\n",
    "            return Node(key, val, 1)\n",
    "        if x.key > key:\n",
    "            x.left = self._put(x.left, key, val)\n",
    "        elif x.key < key:\n",
    "            x.right = self._put(x.right, key, val)\n",
    "        else:\n",
    "            x.val = val\n",
    "        x.N = self._size(x.left) + self._size(x.right) + 1\n",
    "        return x\n",
    "\n",
    "    def delete(self, key):\n",
    "        self.root = self._delete(self.root, key)\n",
    "\n",
    "    def _delete(self, x, key):\n",
    "        if x is None:\n",
    "            return None\n",
    "\n",
    "        if x.key > key:\n",
    "            x.left = self._delete(x.left, key)\n",
    "        elif x.key < key:\n",
    "            x.right = self._delete(x.right, key)\n",
    "        else:\n",
    "            if x.right is None:\n",
    "                return x.left\n",
    "            if x.left is None:\n",
    "                return x.right\n",
    "            t = x\n",
    "            x = self._min(t.right)\n",
    "            x.right = self._deleteMin(t.right)\n",
    "            x.left = t.left\n",
    "\n",
    "        x.N = self._size(x.left) + self._size(x.right) + 1\n",
    "        return x\n",
    "\n",
    "    def delete_min(self):\n",
    "        self.root = self._deleteMin(self.root)\n",
    "\n",
    "    def _deleteMin(self, x):\n",
    "        if x.left is None:\n",
    "            return x.right\n",
    "        x.left = self._deleteMin(x.left)\n",
    "        x.N = self._size(x.left) + self._size(x.right) + 1\n",
    "        return x\n",
    "\n",
    "    def is_empty(self):\n",
    "        return self.root is None\n",
    "\n",
    "    def in_order(self):\n",
    "        return self._inorder(self.root)\n",
    "\n",
    "    def _inorder(self, root):\n",
    "        if root is None:\n",
    "            return []\n",
    "\n",
    "        return self._inorder(root.left) + [root.key]+self._inorder(root.right)\n",
    "\n",
    "\n",
    "if __name__ == '__main__':\n",
    "    st = BST()\n",
    "\n",
    "    for key in \"ighmqlcaz\".upper():\n",
    "        st.put(key, ord(key) - ord('A'))\n",
    "\n",
    "    print(st.in_order())\n"
   ]
  },
  {
   "cell_type": "markdown",
   "id": "4a78c23e-d451-4529-9a99-3c061dbf9614",
   "metadata": {},
   "source": [
    "## 1"
   ]
  },
  {
   "cell_type": "markdown",
   "id": "ccce0a8d-adb1-4a0f-ac1b-b85aa498972f",
   "metadata": {},
   "source": [
    "**Code:**"
   ]
  },
  {
   "cell_type": "code",
   "execution_count": 192,
   "id": "8d9ad8d6-5d34-4183-80eb-a166c3dce76d",
   "metadata": {},
   "outputs": [],
   "source": [
    "#Base Function\n",
    "def rebuild_balanced_tree(self):\n",
    "    orderedKeys = self.in_order()\n",
    "    \n",
    "    self.root = self._build_balanced_tree(orderedKeys)\n",
    "\n",
    "#Recursion Function\n",
    "def _build_balanced_tree(self, keys):\n",
    "    if not keys:\n",
    "        return None\n",
    "    \n",
    "    mid = len(keys) // 2\n",
    "    \n",
    "    root = Node(keys[mid], None, None)\n",
    "    \n",
    "    # Build the subtrees\n",
    "    root.left = self._build_balanced_tree(keys[:mid])\n",
    "    root.right = self._build_balanced_tree(keys[mid+1:])\n",
    "    \n",
    "    # Update sizes\n",
    "    root.N = self._size(root.left) + self._size(root.right) + 1\n",
    "    \n",
    "    return root\n",
    "\n",
    "BST.rebuild_balanced_tree = rebuild_balanced_tree\n",
    "BST._build_balanced_tree = _build_balanced_tree"
   ]
  },
  {
   "cell_type": "markdown",
   "id": "8b0a3904-a881-43b4-b90b-d920229a0749",
   "metadata": {},
   "source": [
    "**Test:**"
   ]
  },
  {
   "cell_type": "code",
   "execution_count": 193,
   "id": "5fcff614-4a1e-45f4-88ea-2bc42d33af35",
   "metadata": {},
   "outputs": [
    {
     "name": "stdout",
     "output_type": "stream",
     "text": [
      "['A', 'C', 'G', 'H', 'I', 'L', 'M', 'Q', 'Z']\n"
     ]
    }
   ],
   "source": [
    "st = BST()\n",
    "\n",
    "for key in \"ighmqlcaz\".upper():\n",
    "    st.put(key, ord(key) - ord('A'))\n",
    "\n",
    "st.rebuild_balanced_tree()\n",
    "    \n",
    "print(st.in_order())"
   ]
  },
  {
   "cell_type": "markdown",
   "id": "a9352e99-3b5c-493a-b4c7-315182959d29",
   "metadata": {},
   "source": [
    "# 2"
   ]
  },
  {
   "cell_type": "markdown",
   "id": "5e8b762c-38af-4acd-91b3-4964a7bd1db3",
   "metadata": {},
   "source": [
    "**Code:**"
   ]
  },
  {
   "cell_type": "code",
   "execution_count": 194,
   "id": "8d54dbab-9802-4853-9942-e8d5175b5c49",
   "metadata": {},
   "outputs": [],
   "source": [
    "#Base Function\n",
    "def getKeysAtDepth(self, d):\n",
    "        KeysAtDepth = []\n",
    "        self._getKeysAtDepth(self.root, d, 0, KeysAtDepth)\n",
    "        return KeysAtDepth\n",
    "\n",
    "#Recursion Function\n",
    "def _getKeysAtDepth(self, node, target, current, result):\n",
    "    if node is None:\n",
    "        return\n",
    "\n",
    "    if current == target:\n",
    "        result.append((node.key, node.val))\n",
    "\n",
    "    if current < target:\n",
    "        self._getKeysAtDepth(node.left, target, current + 1, result)\n",
    "        self._getKeysAtDepth(node.right, target, current + 1, result)\n",
    "\n",
    "BST.getKeysAtDepth = getKeysAtDepth\n",
    "BST._getKeysAtDepth = _getKeysAtDepth"
   ]
  },
  {
   "cell_type": "markdown",
   "id": "54ee0a31-d4d1-4f7e-a26e-527566bab17f",
   "metadata": {},
   "source": [
    "**Test:**"
   ]
  },
  {
   "cell_type": "code",
   "execution_count": 195,
   "id": "5da9dbc0-f5e9-42e4-aa46-43cc789f96ad",
   "metadata": {},
   "outputs": [
    {
     "name": "stdout",
     "output_type": "stream",
     "text": [
      "Keys at Depth 0:\n",
      "I\n",
      "Keys at Depth 1:\n",
      "G\n",
      "Q\n",
      "Keys at Depth 2:\n",
      "C\n",
      "H\n",
      "M\n",
      "Z\n",
      "Keys at Depth 3:\n",
      "A\n",
      "L\n"
     ]
    }
   ],
   "source": [
    "# Keys at depth 0\n",
    "depth0 = st.getKeysAtDepth(0)\n",
    "print(\"Keys at Depth 0:\")\n",
    "for key, value in depth0:\n",
    "    print(key)\n",
    "    \n",
    "# Keys at depth 1\n",
    "depth1 = st.getKeysAtDepth(1)\n",
    "print(\"Keys at Depth 1:\")\n",
    "for key, value in depth1:\n",
    "    print(key)\n",
    "    \n",
    "# Keys at depth 2\n",
    "depth2 = st.getKeysAtDepth(2)\n",
    "print(\"Keys at Depth 2:\")\n",
    "for key, value in depth2:\n",
    "    print(key)\n",
    "    \n",
    "# Keys at depth 2\n",
    "depth3 = st.getKeysAtDepth(3)\n",
    "print(\"Keys at Depth 3:\")\n",
    "for key, value in depth3:\n",
    "    print(key)"
   ]
  },
  {
   "cell_type": "markdown",
   "id": "901c9224-8f7f-489d-a650-bfb7cc44c962",
   "metadata": {},
   "source": [
    "# 3"
   ]
  },
  {
   "cell_type": "markdown",
   "id": "b628ae81-ff22-417a-8c03-59b5364a3b50",
   "metadata": {},
   "source": [
    "**Code:**"
   ]
  },
  {
   "cell_type": "code",
   "execution_count": 196,
   "id": "3f54c900-4171-4c19-94d8-31e2dfa196ec",
   "metadata": {},
   "outputs": [],
   "source": [
    "#Base Function\n",
    "def validateSizeCounts(self):\n",
    "        invalid = []\n",
    "        self._validateSizeCounts(self.root, invalid)\n",
    "        return invalid\n",
    "\n",
    "#Recursion Function\n",
    "def _validateSizeCounts(self, node, invalid_keys):\n",
    "    if node is None:\n",
    "        return 0\n",
    "\n",
    "    # Sizes of either side of tree\n",
    "    left = self._validateSizeCounts(node.left, invalid_keys)\n",
    "    right = self._validateSizeCounts(node.right, invalid_keys)\n",
    "\n",
    "    # Size of tree from the perspective of the current node\n",
    "    size = left + right + 1\n",
    "\n",
    "    # Compare sizes\n",
    "    if size != node.N:\n",
    "        invalid_keys.append(node.key)\n",
    "\n",
    "    # Return the sizes of current subtree\n",
    "    return size\n",
    "\n",
    "BST.validateSizeCounts = validateSizeCounts\n",
    "BST._validateSizeCounts = _validateSizeCounts"
   ]
  },
  {
   "cell_type": "markdown",
   "id": "473573eb-0352-4947-9cf5-537418b5c1a4",
   "metadata": {},
   "source": [
    "**Test:**"
   ]
  },
  {
   "cell_type": "code",
   "execution_count": 197,
   "id": "da4a65b2-6237-4915-9e98-5925d12cfcb1",
   "metadata": {},
   "outputs": [
    {
     "name": "stdout",
     "output_type": "stream",
     "text": [
      "All N attributes are valid.\n"
     ]
    }
   ],
   "source": [
    "invalid = st.validateSizeCounts()\n",
    "\n",
    "if not invalid:\n",
    "    print(\"All N attributes are valid.\")\n",
    "else:\n",
    "    print(\"Keys with invalid N attributes:\", invalid_keys)"
   ]
  },
  {
   "cell_type": "markdown",
   "id": "2f940277-c84c-450e-aafb-3498bd24574c",
   "metadata": {},
   "source": [
    "The test above has all valid N counts. This is because the N's were populated properly."
   ]
  },
  {
   "cell_type": "code",
   "execution_count": 198,
   "id": "7c881004-9747-41c6-beff-bd689083d816",
   "metadata": {},
   "outputs": [
    {
     "name": "stdout",
     "output_type": "stream",
     "text": [
      "Keys with invalid N attributes: ['G', 'I']\n"
     ]
    }
   ],
   "source": [
    "st.root.N = 2\n",
    "st.root.left.N = 200\n",
    "\n",
    "# Validate the size counts\n",
    "invalid = st.validateSizeCounts()\n",
    "\n",
    "if not invalid_keys:\n",
    "    print(\"All N attributes are valid.\")\n",
    "else:\n",
    "    print(\"Keys with invalid N attributes:\", invalid)"
   ]
  },
  {
   "cell_type": "markdown",
   "id": "90c58e23-df89-498d-a8be-610d23fa0e5a",
   "metadata": {},
   "source": [
    "The test above has some of the Ns manually manipulated to be incorrect, in order to show the code working."
   ]
  },
  {
   "cell_type": "markdown",
   "id": "2b8d64b1-1a9e-4e68-a7a8-772c9d476821",
   "metadata": {},
   "source": [
    "# 4"
   ]
  },
  {
   "cell_type": "markdown",
   "id": "a9cc7404-f95c-43ed-a432-5e7267c58fa4",
   "metadata": {},
   "source": [
    "**Code:**"
   ]
  },
  {
   "cell_type": "code",
   "execution_count": 199,
   "id": "daca0091-1f0b-4b5f-8622-a253bfbf3760",
   "metadata": {},
   "outputs": [],
   "source": [
    "#Base Function\n",
    "def toList(self):\n",
    "        treeToList = [None]  \n",
    "        self._toList(self.root, 1, treeToList)\n",
    "        return treeToList\n",
    "\n",
    "#Recursion Function\n",
    "def _toList(self, node, index, treeToList):\n",
    "    if node is not None:\n",
    "        while len(treeToList) <= index:\n",
    "            treeToList.append(None) \n",
    "        treeToList[index] = (node.key, node.val)\n",
    "        self._toList(node.left, 2 * index, treeToList)\n",
    "        self._toList(node.right, 2 * index + 1, treeToList)\n",
    "\n",
    "#Search Function\n",
    "def searchInList(self, key):\n",
    "        treeToList = self.toList()\n",
    "        for index, (node_key, val) in enumerate(treeToList):\n",
    "            if node_key == key:\n",
    "                return val\n",
    "        return None\n",
    "\n",
    "BST.toList = toList\n",
    "BST._toList = _toList\n",
    "BST.searchInList = searchInList"
   ]
  },
  {
   "cell_type": "markdown",
   "id": "ef103e06-45be-4d84-a200-28ba0c3ecc34",
   "metadata": {},
   "source": [
    "**Test:**"
   ]
  },
  {
   "cell_type": "code",
   "execution_count": 200,
   "id": "6ca61291-11a1-46e5-a4da-c4fab8a11bcb",
   "metadata": {},
   "outputs": [
    {
     "name": "stdout",
     "output_type": "stream",
     "text": [
      "Index 1: Key: ('I', None)\n",
      "Index 2: Key: ('G', None)\n",
      "Index 3: Key: ('Q', None)\n",
      "Index 4: Key: ('C', None)\n",
      "Index 5: Key: ('H', None)\n",
      "Index 6: Key: ('M', None)\n",
      "Index 7: Key: ('Z', None)\n",
      "Index 8: Key: ('A', None)\n",
      "Index 12: Key: ('L', None)\n"
     ]
    }
   ],
   "source": [
    "treeToList = st.toList()\n",
    "\n",
    "for i, (key) in enumerate(treeToList):\n",
    "    if key is not None:\n",
    "        print(f\"Index {i}: Key: {key}\")"
   ]
  },
  {
   "cell_type": "markdown",
   "id": "d149e989-7956-422d-96ed-120a7f4183a5",
   "metadata": {},
   "source": [
    "**Explanations:**"
   ]
  },
  {
   "cell_type": "markdown",
   "id": "508b9f9d-73c1-4467-a945-2269f04ed6a8",
   "metadata": {},
   "source": [
    "toList function: \n",
    "- Worst-case time of O(n)\n",
    "- Worst-case space-utlization of O(n)\n",
    "\n",
    "searchInList function:\n",
    "- Worst-case time of O(n)"
   ]
  },
  {
   "cell_type": "markdown",
   "id": "09c31024-d5cd-484c-bee9-5f3bf5cac11c",
   "metadata": {},
   "source": [
    "# 5"
   ]
  },
  {
   "cell_type": "markdown",
   "id": "adb2f756-cc30-493e-b66f-29ecc2ba7890",
   "metadata": {},
   "source": [
    "**Code:**"
   ]
  },
  {
   "cell_type": "code",
   "execution_count": 201,
   "id": "5ae2ac3f-a5e1-43a7-bbe4-9623a30115ce",
   "metadata": {},
   "outputs": [],
   "source": [
    "def transform(self):\n",
    "    totalSum = [0]\n",
    "    self._transform(self.root, totalSum)\n",
    "\n",
    "def _transform(self, node, totalSum):\n",
    "    if node is not None:\n",
    "        # Right subtree\n",
    "        self._transform(node.right, totalSum)\n",
    "\n",
    "        # New key is sum of all greater keys\n",
    "        node.key = str(int(node.key) + totalSum[0])\n",
    "        totalSum[0] = int(node.key)\n",
    "\n",
    "        # Left subtree\n",
    "        self._transform(node.left, totalSum)\n",
    "\n",
    "BST.transform = transform\n",
    "BST._transform = _transform"
   ]
  },
  {
   "cell_type": "markdown",
   "id": "04bd84fc-11f1-4343-bf58-3218edc99b21",
   "metadata": {},
   "source": [
    "**Test:**"
   ]
  },
  {
   "cell_type": "code",
   "execution_count": 202,
   "id": "7617700b-65e0-4ea5-b6a5-5dccda26a3d0",
   "metadata": {},
   "outputs": [
    {
     "name": "stdout",
     "output_type": "stream",
     "text": [
      "Original Tree: [-124, 2, 4, 6, 7, 8, 9, 15, 21, 244]\n",
      "Transformed Tree: ['192', '316', '314', '310', '304', '297', '289', '280', '265', '244']\n"
     ]
    }
   ],
   "source": [
    "stNUM = BST()\n",
    "\n",
    "# Numeric keys instead of letters\n",
    "keys = [21, 8, -124, 9, 7, 15, 4, 2, 6, 244]\n",
    "for key in keys:\n",
    "    stNUM.put(key, key)\n",
    "    \n",
    "stNUM.rebuild_balanced_tree()\n",
    "print(\"Original Tree:\", stNUM.in_order())\n",
    "\n",
    "stNUM.transform()\n",
    "print(\"Transformed Tree:\" , stNUM.in_order())"
   ]
  },
  {
   "cell_type": "markdown",
   "id": "eeffef8a-1eaa-4b71-85ec-a6efa895d139",
   "metadata": {},
   "source": [
    "In the above test, numeric keys were used instead of letters so that the summation would work"
   ]
  },
  {
   "cell_type": "markdown",
   "id": "a3b2007e-aa3d-413e-a777-bccc6c1a0cce",
   "metadata": {},
   "source": [
    "# 6"
   ]
  },
  {
   "cell_type": "markdown",
   "id": "ec8ab8d0-6ec5-4d8c-8723-f15268489a4c",
   "metadata": {},
   "source": [
    "**Code:**"
   ]
  },
  {
   "cell_type": "code",
   "execution_count": 203,
   "id": "c112445d-e7fc-46b3-aeda-2f8f661b062b",
   "metadata": {},
   "outputs": [],
   "source": [
    "def bottom_up_traversal(self):\n",
    "        if not self.root:\n",
    "            return []\n",
    "\n",
    "        queue, stack = [self.root], []\n",
    "\n",
    "        while queue:\n",
    "            nodes, size = [], len(queue)\n",
    "\n",
    "            for _ in range(size):\n",
    "                node = queue.pop(0)\n",
    "                nodes.append(node.key)\n",
    "                if node.left: queue.append(node.left)\n",
    "                if node.right: queue.append(node.right)\n",
    "\n",
    "            stack.insert(0, nodes)\n",
    "\n",
    "        return [key for level in stack for key in level]\n",
    "\n",
    "BST.bottom_up_traversal = bottom_up_traversal"
   ]
  },
  {
   "cell_type": "markdown",
   "id": "c0e01b95-8f07-45e1-bca6-1ef76651d394",
   "metadata": {},
   "source": [
    "**Test:**"
   ]
  },
  {
   "cell_type": "code",
   "execution_count": 204,
   "id": "aed22bf1-66c6-4f16-899d-5a1f0bf88a09",
   "metadata": {},
   "outputs": [
    {
     "name": "stdout",
     "output_type": "stream",
     "text": [
      "['A', 'L', 'C', 'H', 'M', 'Z', 'G', 'Q', 'I']\n"
     ]
    }
   ],
   "source": [
    "st = BST()\n",
    "\n",
    "for key in \"ighmqlcaz\".upper():\n",
    "    st.put(key, ord(key) - ord('A'))\n",
    "\n",
    "st.rebuild_balanced_tree()\n",
    "print(st.bottom_up_traversal())"
   ]
  },
  {
   "cell_type": "markdown",
   "id": "580a2d34-f355-4e2a-9d24-06c9b1632103",
   "metadata": {},
   "source": [
    "**Explanations:**"
   ]
  },
  {
   "cell_type": "markdown",
   "id": "d4d1486c-fdf9-4b69-b4d6-97341147c972",
   "metadata": {},
   "source": [
    "bottom_up_traversal function: \n",
    "- Worst-case time of O(n)\n",
    "- Worst-case space-utlization of O(n)"
   ]
  },
  {
   "cell_type": "code",
   "execution_count": null,
   "id": "5c46dde1-14c7-441e-a18d-f897a6a80c66",
   "metadata": {},
   "outputs": [],
   "source": []
  }
 ],
 "metadata": {
  "kernelspec": {
   "display_name": "Python 3",
   "language": "python",
   "name": "python3"
  },
  "language_info": {
   "codemirror_mode": {
    "name": "ipython",
    "version": 3
   },
   "file_extension": ".py",
   "mimetype": "text/x-python",
   "name": "python",
   "nbconvert_exporter": "python",
   "pygments_lexer": "ipython3",
   "version": "3.8.8"
  }
 },
 "nbformat": 4,
 "nbformat_minor": 5
}
